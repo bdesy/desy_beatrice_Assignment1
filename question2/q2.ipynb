{
 "cells": [
  {
   "cell_type": "markdown",
   "metadata": {
    "deletable": true,
    "editable": true
   },
   "source": [
    "# a) Binomial coefficients"
   ]
  },
  {
   "cell_type": "code",
   "execution_count": 1,
   "metadata": {
    "collapsed": false,
    "deletable": true,
    "editable": true
   },
   "outputs": [
    {
     "name": "stdout",
     "output_type": "stream",
     "text": [
      "(0, 1)\n",
      "(1, 1)\n",
      "(2, 2)\n",
      "(3, 6)\n",
      "(4, 24)\n",
      "(5, 120)\n",
      "(6, 720)\n",
      "(7, 5040)\n",
      "(8, 40320)\n",
      "(9, 362880)\n"
     ]
    }
   ],
   "source": [
    "def factorial(n):\n",
    "    if type(n) == int:\n",
    "        if n == 0:\n",
    "            return 1 \n",
    "        else:\n",
    "            result = 1\n",
    "            for i in range(1, n+1):\n",
    "                result = result * i\n",
    "            return result\n",
    "    else:\n",
    "        pass\n",
    "\n",
    "for i in range(10):\n",
    "    print(i, factorial(i))\n",
    "\n",
    "def binomial_coefficient(n, k):\n",
    "    return factorial(n) / (factorial(k) * factorial(n-k))"
   ]
  },
  {
   "cell_type": "markdown",
   "metadata": {
    "deletable": true,
    "editable": true
   },
   "source": [
    "# b) Pascal's triangle"
   ]
  },
  {
   "cell_type": "code",
   "execution_count": 2,
   "metadata": {
    "collapsed": false,
    "deletable": true,
    "editable": true
   },
   "outputs": [
    {
     "name": "stdout",
     "output_type": "stream",
     "text": [
      "1 \b\n",
      "1 1 \b\n",
      "1 2 1 \b\n",
      "1 3 3 1 \b\n",
      "1 4 6 4 1 \b\n",
      "1 5 10 10 5 1 \b\n",
      "1 6 15 20 15 6 1 \b\n",
      "1 7 21 35 35 21 7 1 \b\n",
      "1 8 28 56 70 56 28 8 1 \b\n",
      "1 9 36 84 126 126 84 36 9 1 \b\n",
      "1 10 45 120 210 252 210 120 45 10 1 \b\n",
      "1 11 55 165 330 462 462 330 165 55 11 1 \b\n",
      "1 12 66 220 495 792 924 792 495 220 66 12 1 \b\n",
      "1 13 78 286 715 1287 1716 1716 1287 715 286 78 13 1 \b\n",
      "1 14 91 364 1001 2002 3003 3432 3003 2002 1001 364 91 14 1 \b\n",
      "1 15 105 455 1365 3003 5005 6435 6435 5005 3003 1365 455 105 15 1 \b\n",
      "1 16 120 560 1820 4368 8008 11440 12870 11440 8008 4368 1820 560 120 16 1 \b\n",
      "1 17 136 680 2380 6188 12376 19448 24310 24310 19448 12376 6188 2380 680 136 17 1 \b\n",
      "1 18 153 816 3060 8568 18564 31824 43758 48620 43758 31824 18564 8568 3060 816 153 18 1 \b\n",
      "1 19 171 969 3876 11628 27132 50388 75582 92378 92378 75582 50388 27132 11628 3876 969 171 19 1 \b\n"
     ]
    }
   ],
   "source": [
    "from __future__ import print_function \n",
    "#Could've done it some other way but I thought importing from the future was pretty cool.\n",
    "\n",
    "def pascals_triangle(nb_rows):\n",
    "    for n in range(nb_rows):\n",
    "        for k in range(n+1):\n",
    "            print(binomial_coefficient(n,k), end=' ')\n",
    "        print(\"\\b\")\n",
    "\n",
    "pascals_triangle(20)"
   ]
  },
  {
   "cell_type": "markdown",
   "metadata": {
    "deletable": true,
    "editable": true
   },
   "source": [
    "# c) Biased coin"
   ]
  },
  {
   "cell_type": "code",
   "execution_count": 3,
   "metadata": {
    "collapsed": false,
    "deletable": true,
    "editable": true
   },
   "outputs": [],
   "source": [
    "def biased_coin(p, n, k):\n",
    "    \"\"\"\n",
    "    :param: p is the probability of coming up heads\n",
    "            n is the total number of flips\n",
    "            k is the number of heads obtained for n flips\n",
    "    :return: probability of obtaining head k times in n flips\"\"\"\n",
    "    \n",
    "    return binomial_coefficient(n, k) * p**k * (1-p)**(n-k)\n",
    "    \n",
    "\n",
    "def print_biased_coin(p, n, k):\n",
    "    \"\"\"just a nice printing function\"\"\"\n",
    "    \n",
    "    res = biased_coin(p, n, k)\n",
    "    print(\"If p = {0}, the probability of obtaining {1} heads in {2} flips is \".format(p, k, n) \n",
    "          + str(res) + \".\")"
   ]
  },
  {
   "cell_type": "markdown",
   "metadata": {
    "deletable": true,
    "editable": true
   },
   "source": [
    "Let's try this for an unbiased coin, i.e. p = 0.5."
   ]
  },
  {
   "cell_type": "code",
   "execution_count": 4,
   "metadata": {
    "collapsed": false,
    "deletable": true,
    "editable": true
   },
   "outputs": [
    {
     "name": "stdout",
     "output_type": "stream",
     "text": [
      "If p = 0.5, the probability of obtaining 5 heads in 10 flips is 0.24609375.\n"
     ]
    }
   ],
   "source": [
    "print_biased_coin(0.5, 10, 5)"
   ]
  },
  {
   "cell_type": "markdown",
   "metadata": {
    "deletable": true,
    "editable": true
   },
   "source": [
    "This might seem surprising, but let's not forget that even if the coin is well balanced, the function above request the probability of falling on heads exactly 5 times out of 10. This value isn't 0.5 unless we do the experiment only 2 times, that is to say"
   ]
  },
  {
   "cell_type": "code",
   "execution_count": 5,
   "metadata": {
    "collapsed": false,
    "deletable": true,
    "editable": true
   },
   "outputs": [
    {
     "name": "stdout",
     "output_type": "stream",
     "text": [
      "If p = 0.5, the probability of obtaining 1 heads in 2 flips is 0.5.\n"
     ]
    }
   ],
   "source": [
    "print_biased_coin(0.5, 2, 1)"
   ]
  },
  {
   "cell_type": "markdown",
   "metadata": {
    "deletable": true,
    "editable": true
   },
   "source": [
    "For example, a baseball player with batting average p = 0.250 has n = 4 attempts to obtain a hit, or at-bats, during a given game. What is the chance that s/he will obtain at least\n",
    "one hit during the game, assuming that all at-bats are statistically the\n",
    "same and uncorrelated?"
   ]
  },
  {
   "cell_type": "code",
   "execution_count": 6,
   "metadata": {
    "collapsed": false,
    "deletable": true,
    "editable": true
   },
   "outputs": [
    {
     "name": "stdout",
     "output_type": "stream",
     "text": [
      "The baseball player has 42.1875% chances to obtain one hit.\n"
     ]
    }
   ],
   "source": [
    "res1 = biased_coin(0.250, 4, 1) * 100\n",
    "print(\"The baseball player has \" \n",
    "          + str(res1) + \"% chances to obtain one hit.\")"
   ]
  },
  {
   "cell_type": "markdown",
   "metadata": {
    "deletable": true,
    "editable": true
   },
   "source": [
    "But this is only the chances to obtain only one hit out of 4, let's consider the chances to obtain at least one hit, that is to say anything else than 0 hit."
   ]
  },
  {
   "cell_type": "code",
   "execution_count": 7,
   "metadata": {
    "collapsed": false,
    "deletable": true,
    "editable": true
   },
   "outputs": [
    {
     "name": "stdout",
     "output_type": "stream",
     "text": [
      "The baseball player has 68.359375% chances to obtain at least one hit.\n"
     ]
    }
   ],
   "source": [
    "res2 = (1 - biased_coin(0.250, 4, 0)) * 100\n",
    "print(\"The baseball player has \" \n",
    "          + str(res2) + \"% chances to obtain at least one hit.\")"
   ]
  },
  {
   "cell_type": "markdown",
   "metadata": {
    "collapsed": true,
    "deletable": true,
    "editable": true
   },
   "source": [
    "As time flies, choices are to be made. This is the end of question 2."
   ]
  },
  {
   "cell_type": "code",
   "execution_count": null,
   "metadata": {
    "collapsed": true
   },
   "outputs": [],
   "source": []
  }
 ],
 "metadata": {
  "kernelspec": {
   "display_name": "Python 2",
   "language": "python",
   "name": "python2"
  },
  "language_info": {
   "codemirror_mode": {
    "name": "ipython",
    "version": 2
   },
   "file_extension": ".py",
   "mimetype": "text/x-python",
   "name": "python",
   "nbconvert_exporter": "python",
   "pygments_lexer": "ipython2",
   "version": "2.7.13"
  }
 },
 "nbformat": 4,
 "nbformat_minor": 2
}
